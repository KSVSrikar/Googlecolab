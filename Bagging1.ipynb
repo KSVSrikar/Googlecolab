{
  "nbformat": 4,
  "nbformat_minor": 0,
  "metadata": {
    "colab": {
      "name": "Bagging1.ipynb",
      "provenance": [],
      "toc_visible": true,
      "authorship_tag": "ABX9TyOLKAZiysue1OHGct5YubT6",
      "include_colab_link": true
    },
    "kernelspec": {
      "name": "python3",
      "display_name": "Python 3"
    }
  },
  "cells": [
    {
      "cell_type": "markdown",
      "metadata": {
        "id": "view-in-github",
        "colab_type": "text"
      },
      "source": [
        "<a href=\"https://colab.research.google.com/github/KSVSrikar/Googlecolab/blob/master/Bagging1.ipynb\" target=\"_parent\"><img src=\"https://colab.research.google.com/assets/colab-badge.svg\" alt=\"Open In Colab\"/></a>"
      ]
    },
    {
      "cell_type": "code",
      "metadata": {
        "id": "dC2K8r-q579r",
        "colab_type": "code",
        "outputId": "7d2ac468-5461-4ec3-ecae-ab38a8ff8297",
        "colab": {
          "base_uri": "https://localhost:8080/",
          "height": 119
        }
      },
      "source": [
        "import io\n",
        "import numpy as np \n",
        "import pandas as pd\n",
        "from sklearn.model_selection import train_test_split\n",
        "from sklearn.tree import DecisionTreeClassifier\n",
        "from sklearn. ensemble import RandomForestClassifier, BaggingClassifier\n",
        "from random import seed\n",
        "from random import random\n",
        "from random import randrange\n",
        "\n",
        "url = 'https://raw.githubusercontent.com/KSVSrikar/Googlecolab/master/mnist_test.csv'\n",
        "data = pd.read_csv(url)\n",
        "\n",
        "df_x = data.iloc[:,1:]\n",
        "df_y = data.iloc[:,0]\n",
        "x_train, x_test, y_train, y_test = train_test_split(df_x, df_y, test_size=0.2, random_state=4)\n",
        "#descision tree\n",
        "dt = DecisionTreeClassifier()\n",
        "dt.fit(x_train,y_train)"
      ],
      "execution_count": 158,
      "outputs": [
        {
          "output_type": "execute_result",
          "data": {
            "text/plain": [
              "DecisionTreeClassifier(ccp_alpha=0.0, class_weight=None, criterion='gini',\n",
              "                       max_depth=None, max_features=None, max_leaf_nodes=None,\n",
              "                       min_impurity_decrease=0.0, min_impurity_split=None,\n",
              "                       min_samples_leaf=1, min_samples_split=2,\n",
              "                       min_weight_fraction_leaf=0.0, presort='deprecated',\n",
              "                       random_state=None, splitter='best')"
            ]
          },
          "metadata": {
            "tags": []
          },
          "execution_count": 158
        }
      ]
    },
    {
      "cell_type": "code",
      "metadata": {
        "id": "rc7OTaVY894e",
        "colab_type": "code",
        "outputId": "741a6ae3-6fa1-4f18-ea58-08d73c74e12b",
        "colab": {
          "base_uri": "https://localhost:8080/",
          "height": 34
        }
      },
      "source": [
        "dt.score(x_test,y_test)"
      ],
      "execution_count": 159,
      "outputs": [
        {
          "output_type": "execute_result",
          "data": {
            "text/plain": [
              "0.799"
            ]
          },
          "metadata": {
            "tags": []
          },
          "execution_count": 159
        }
      ]
    },
    {
      "cell_type": "code",
      "metadata": {
        "id": "kVUNJCqa9NLy",
        "colab_type": "code",
        "outputId": "c9534b7f-451b-40a8-c66a-d9372ecacd2a",
        "colab": {
          "base_uri": "https://localhost:8080/",
          "height": 153
        }
      },
      "source": [
        "#Random Forest - Ensemble of Descision Trees\n",
        "\n",
        "rf = RandomForestClassifier(n_estimators=5)\n",
        "rf.fit(x_train,y_train)"
      ],
      "execution_count": 160,
      "outputs": [
        {
          "output_type": "execute_result",
          "data": {
            "text/plain": [
              "RandomForestClassifier(bootstrap=True, ccp_alpha=0.0, class_weight=None,\n",
              "                       criterion='gini', max_depth=None, max_features='auto',\n",
              "                       max_leaf_nodes=None, max_samples=None,\n",
              "                       min_impurity_decrease=0.0, min_impurity_split=None,\n",
              "                       min_samples_leaf=1, min_samples_split=2,\n",
              "                       min_weight_fraction_leaf=0.0, n_estimators=5,\n",
              "                       n_jobs=None, oob_score=False, random_state=None,\n",
              "                       verbose=0, warm_start=False)"
            ]
          },
          "metadata": {
            "tags": []
          },
          "execution_count": 160
        }
      ]
    },
    {
      "cell_type": "code",
      "metadata": {
        "id": "UmGaPqe79Tp9",
        "colab_type": "code",
        "outputId": "2d49e6d1-6825-4514-b886-38dc9b35b88d",
        "colab": {
          "base_uri": "https://localhost:8080/",
          "height": 34
        }
      },
      "source": [
        "rf.score(x_test,y_test)"
      ],
      "execution_count": 161,
      "outputs": [
        {
          "output_type": "execute_result",
          "data": {
            "text/plain": [
              "0.8675"
            ]
          },
          "metadata": {
            "tags": []
          },
          "execution_count": 161
        }
      ]
    },
    {
      "cell_type": "code",
      "metadata": {
        "id": "GidRJD2I-JD1",
        "colab_type": "code",
        "outputId": "b5d9da45-9289-4167-cb4f-160c65dbebdb",
        "colab": {
          "base_uri": "https://localhost:8080/",
          "height": 306
        }
      },
      "source": [
        "bg = BaggingClassifier(DecisionTreeClassifier(), max_samples= 1.0, max_features = 1.0, n_estimators = 5)\n",
        "bg.fit(x_train,y_train)"
      ],
      "execution_count": 162,
      "outputs": [
        {
          "output_type": "execute_result",
          "data": {
            "text/plain": [
              "BaggingClassifier(base_estimator=DecisionTreeClassifier(ccp_alpha=0.0,\n",
              "                                                        class_weight=None,\n",
              "                                                        criterion='gini',\n",
              "                                                        max_depth=None,\n",
              "                                                        max_features=None,\n",
              "                                                        max_leaf_nodes=None,\n",
              "                                                        min_impurity_decrease=0.0,\n",
              "                                                        min_impurity_split=None,\n",
              "                                                        min_samples_leaf=1,\n",
              "                                                        min_samples_split=2,\n",
              "                                                        min_weight_fraction_leaf=0.0,\n",
              "                                                        presort='deprecated',\n",
              "                                                        random_state=None,\n",
              "                                                        splitter='best'),\n",
              "                  bootstrap=True, bootstrap_features=False, max_features=1.0,\n",
              "                  max_samples=1.0, n_estimators=5, n_jobs=None, oob_score=False,\n",
              "                  random_state=None, verbose=0, warm_start=False)"
            ]
          },
          "metadata": {
            "tags": []
          },
          "execution_count": 162
        }
      ]
    },
    {
      "cell_type": "code",
      "metadata": {
        "id": "sLln3CURExOD",
        "colab_type": "code",
        "outputId": "a67b00ec-bba9-46d0-9850-2434a48b4eee",
        "colab": {
          "base_uri": "https://localhost:8080/",
          "height": 34
        }
      },
      "source": [
        "bg.score(x_test,y_test)"
      ],
      "execution_count": 163,
      "outputs": [
        {
          "output_type": "execute_result",
          "data": {
            "text/plain": [
              "0.869"
            ]
          },
          "metadata": {
            "tags": []
          },
          "execution_count": 163
        }
      ]
    },
    {
      "cell_type": "code",
      "metadata": {
        "id": "z3CLu4iE4Mq3",
        "colab_type": "code",
        "colab": {}
      },
      "source": [
        "def func(num,x_ds,y_ds):\n",
        "  ls = list()\n",
        "  for i in range(1,num+1):\n",
        "    dt = DecisionTreeClassifier()\n",
        "    sample_x = x_ds.sample(n=len(x_ds),replace=True,random_state=i)\n",
        "    sample_y = y_ds.sample(n=len(y_ds),replace=True,random_state=i)\n",
        "    dt.fit(x_ds,y_ds)\n",
        "    ls.append(dt)\n",
        "  return ls\n",
        "\n",
        "ls = func(5,x_train,y_train)"
      ],
      "execution_count": 0,
      "outputs": []
    },
    {
      "cell_type": "code",
      "metadata": {
        "id": "1aRdF4swBz_2",
        "colab_type": "code",
        "colab": {
          "base_uri": "https://localhost:8080/",
          "height": 102
        },
        "outputId": "1a7bbc25-9b05-4b7c-ac96-5e510a94e4a3"
      },
      "source": [
        "for i in range(0,len(ls)):\n",
        "  print(ls[i].score(x_test,y_test))"
      ],
      "execution_count": 165,
      "outputs": [
        {
          "output_type": "stream",
          "text": [
            "0.802\n",
            "0.8045\n",
            "0.797\n",
            "0.797\n",
            "0.7965\n"
          ],
          "name": "stdout"
        }
      ]
    },
    {
      "cell_type": "code",
      "metadata": {
        "id": "QrrlGFemDruV",
        "colab_type": "code",
        "colab": {
          "base_uri": "https://localhost:8080/",
          "height": 54
        },
        "outputId": "5878a4c4-9ac1-4658-c6d4-217cdc046651"
      },
      "source": [
        "y_predls = list()\n",
        "for i in range(0,len(ls)):\n",
        "  y_pred = ls[i].predict(x_test)\n",
        "  y_predls.append(y_pred)\n",
        "print(y_predls)"
      ],
      "execution_count": 166,
      "outputs": [
        {
          "output_type": "stream",
          "text": [
            "[array([1, 3, 7, ..., 8, 1, 0]), array([1, 3, 7, ..., 8, 1, 0]), array([1, 3, 7, ..., 5, 1, 0]), array([1, 3, 7, ..., 8, 1, 0]), array([1, 3, 7, ..., 8, 1, 0])]\n"
          ],
          "name": "stdout"
        }
      ]
    },
    {
      "cell_type": "code",
      "metadata": {
        "id": "5l8tS9taGKoq",
        "colab_type": "code",
        "colab": {}
      },
      "source": [
        "from collections import Counter\n",
        "votedlist = list()\n",
        "for i in range(0,len(y_predls[0])):\n",
        "  column = list()\n",
        "  for j in range(0,len(y_predls)):\n",
        "    z = y_predls[j][i]\n",
        "    column.append(z)\n",
        "  c = Counter(column)\n",
        "  votedlist.append(c.most_common(1)[0][0])\n",
        "\n",
        "#votedlist"
      ],
      "execution_count": 0,
      "outputs": []
    },
    {
      "cell_type": "code",
      "metadata": {
        "id": "hOhnkCsoQvMW",
        "colab_type": "code",
        "colab": {
          "base_uri": "https://localhost:8080/",
          "height": 34
        },
        "outputId": "dc573282-5d54-4b3f-9973-ca9f66a0a44e"
      },
      "source": [
        "from sklearn import metrics\n",
        "print(\"Accuracy:\",metrics.accuracy_score(y_test, votedlist))"
      ],
      "execution_count": 171,
      "outputs": [
        {
          "output_type": "stream",
          "text": [
            "Accuracy: 0.8115\n"
          ],
          "name": "stdout"
        }
      ]
    }
  ]
}