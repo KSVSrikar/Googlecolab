{
  "nbformat": 4,
  "nbformat_minor": 0,
  "metadata": {
    "colab": {
      "name": "Bagging1.ipynb",
      "provenance": [],
      "toc_visible": true,
      "authorship_tag": "ABX9TyNkUt9zB/cyP5cfxb6ZkdAx",
      "include_colab_link": true
    },
    "kernelspec": {
      "name": "python3",
      "display_name": "Python 3"
    }
  },
  "cells": [
    {
      "cell_type": "markdown",
      "metadata": {
        "id": "view-in-github",
        "colab_type": "text"
      },
      "source": [
        "<a href=\"https://colab.research.google.com/github/KSVSrikar/Googlecolab/blob/master/Bagging1.ipynb\" target=\"_parent\"><img src=\"https://colab.research.google.com/assets/colab-badge.svg\" alt=\"Open In Colab\"/></a>"
      ]
    },
    {
      "cell_type": "code",
      "metadata": {
        "id": "dC2K8r-q579r",
        "colab_type": "code",
        "outputId": "afbe96c5-01b8-412a-afe7-13f691f88de7",
        "colab": {
          "base_uri": "https://localhost:8080/",
          "height": 119
        }
      },
      "source": [
        "import io\n",
        "import numpy as np \n",
        "import pandas as pd\n",
        "from sklearn.model_selection import train_test_split\n",
        "from sklearn.tree import DecisionTreeClassifier\n",
        "from sklearn. ensemble import RandomForestClassifier, BaggingClassifier\n",
        "from random import seed\n",
        "from random import random\n",
        "from random import randrange\n",
        "\n",
        "url = 'https://raw.githubusercontent.com/KSVSrikar/Googlecolab/master/mnist_test.csv'\n",
        "data = pd.read_csv(url)\n",
        "\n",
        "df_x = data.iloc[:,1:]\n",
        "df_y = data.iloc[:,0]\n",
        "x_train, x_test, y_train, y_test = train_test_split(df_x, df_y, test_size=0.2, random_state=4)\n",
        "#descision tree\n",
        "dt = DecisionTreeClassifier()\n",
        "dt.fit(x_train,y_train)"
      ],
      "execution_count": 2,
      "outputs": [
        {
          "output_type": "execute_result",
          "data": {
            "text/plain": [
              "DecisionTreeClassifier(ccp_alpha=0.0, class_weight=None, criterion='gini',\n",
              "                       max_depth=None, max_features=None, max_leaf_nodes=None,\n",
              "                       min_impurity_decrease=0.0, min_impurity_split=None,\n",
              "                       min_samples_leaf=1, min_samples_split=2,\n",
              "                       min_weight_fraction_leaf=0.0, presort='deprecated',\n",
              "                       random_state=None, splitter='best')"
            ]
          },
          "metadata": {
            "tags": []
          },
          "execution_count": 2
        }
      ]
    },
    {
      "cell_type": "code",
      "metadata": {
        "id": "rc7OTaVY894e",
        "colab_type": "code",
        "outputId": "e6775bee-c21f-49d6-e2f3-020838be15d0",
        "colab": {
          "base_uri": "https://localhost:8080/",
          "height": 34
        }
      },
      "source": [
        "dt.score(x_test,y_test)"
      ],
      "execution_count": 3,
      "outputs": [
        {
          "output_type": "execute_result",
          "data": {
            "text/plain": [
              "0.792"
            ]
          },
          "metadata": {
            "tags": []
          },
          "execution_count": 3
        }
      ]
    },
    {
      "cell_type": "code",
      "metadata": {
        "id": "kVUNJCqa9NLy",
        "colab_type": "code",
        "outputId": "b19dc601-b6b0-481f-8106-8e7575780d54",
        "colab": {
          "base_uri": "https://localhost:8080/",
          "height": 153
        }
      },
      "source": [
        "#Random Forest - Ensemble of Descision Trees\n",
        "\n",
        "rf = RandomForestClassifier(n_estimators=5)\n",
        "rf.fit(x_train,y_train)"
      ],
      "execution_count": 4,
      "outputs": [
        {
          "output_type": "execute_result",
          "data": {
            "text/plain": [
              "RandomForestClassifier(bootstrap=True, ccp_alpha=0.0, class_weight=None,\n",
              "                       criterion='gini', max_depth=None, max_features='auto',\n",
              "                       max_leaf_nodes=None, max_samples=None,\n",
              "                       min_impurity_decrease=0.0, min_impurity_split=None,\n",
              "                       min_samples_leaf=1, min_samples_split=2,\n",
              "                       min_weight_fraction_leaf=0.0, n_estimators=5,\n",
              "                       n_jobs=None, oob_score=False, random_state=None,\n",
              "                       verbose=0, warm_start=False)"
            ]
          },
          "metadata": {
            "tags": []
          },
          "execution_count": 4
        }
      ]
    },
    {
      "cell_type": "code",
      "metadata": {
        "id": "UmGaPqe79Tp9",
        "colab_type": "code",
        "outputId": "16d4b271-54c8-4471-cfe1-12d84e418da4",
        "colab": {
          "base_uri": "https://localhost:8080/",
          "height": 34
        }
      },
      "source": [
        "rf.score(x_test,y_test)"
      ],
      "execution_count": 5,
      "outputs": [
        {
          "output_type": "execute_result",
          "data": {
            "text/plain": [
              "0.8585"
            ]
          },
          "metadata": {
            "tags": []
          },
          "execution_count": 5
        }
      ]
    },
    {
      "cell_type": "code",
      "metadata": {
        "id": "GidRJD2I-JD1",
        "colab_type": "code",
        "outputId": "cd0507b9-944f-4e7c-da74-0673df37cf38",
        "colab": {
          "base_uri": "https://localhost:8080/",
          "height": 306
        }
      },
      "source": [
        "bg = BaggingClassifier(DecisionTreeClassifier(), max_samples= 1.0, max_features = 1.0, n_estimators = 5)\n",
        "bg.fit(x_train,y_train)"
      ],
      "execution_count": 6,
      "outputs": [
        {
          "output_type": "execute_result",
          "data": {
            "text/plain": [
              "BaggingClassifier(base_estimator=DecisionTreeClassifier(ccp_alpha=0.0,\n",
              "                                                        class_weight=None,\n",
              "                                                        criterion='gini',\n",
              "                                                        max_depth=None,\n",
              "                                                        max_features=None,\n",
              "                                                        max_leaf_nodes=None,\n",
              "                                                        min_impurity_decrease=0.0,\n",
              "                                                        min_impurity_split=None,\n",
              "                                                        min_samples_leaf=1,\n",
              "                                                        min_samples_split=2,\n",
              "                                                        min_weight_fraction_leaf=0.0,\n",
              "                                                        presort='deprecated',\n",
              "                                                        random_state=None,\n",
              "                                                        splitter='best'),\n",
              "                  bootstrap=True, bootstrap_features=False, max_features=1.0,\n",
              "                  max_samples=1.0, n_estimators=5, n_jobs=None, oob_score=False,\n",
              "                  random_state=None, verbose=0, warm_start=False)"
            ]
          },
          "metadata": {
            "tags": []
          },
          "execution_count": 6
        }
      ]
    },
    {
      "cell_type": "code",
      "metadata": {
        "id": "sLln3CURExOD",
        "colab_type": "code",
        "outputId": "8dcacd0e-833d-46eb-a955-fb168c8b2d7d",
        "colab": {
          "base_uri": "https://localhost:8080/",
          "height": 34
        }
      },
      "source": [
        "bg.score(x_test,y_test)"
      ],
      "execution_count": 7,
      "outputs": [
        {
          "output_type": "execute_result",
          "data": {
            "text/plain": [
              "0.8645"
            ]
          },
          "metadata": {
            "tags": []
          },
          "execution_count": 7
        }
      ]
    },
    {
      "cell_type": "code",
      "metadata": {
        "id": "z3CLu4iE4Mq3",
        "colab_type": "code",
        "colab": {}
      },
      "source": [
        "def func(num,x_ds,y_ds):\n",
        "  ls = list()\n",
        "  for i in range(1,num+1):\n",
        "    dt = DecisionTreeClassifier()\n",
        "    sample_x = x_ds.sample(n=len(x_ds),replace=True,random_state=i)\n",
        "    sample_y = y_ds.sample(n=len(y_ds),replace=True,random_state=i)\n",
        "    dt.fit(sample_x,sample_y)\n",
        "    ls.append(dt)\n",
        "  return ls\n",
        "\n",
        "ls = func(5,x_train,y_train)"
      ],
      "execution_count": 0,
      "outputs": []
    },
    {
      "cell_type": "code",
      "metadata": {
        "id": "1aRdF4swBz_2",
        "colab_type": "code",
        "outputId": "a7ae85e1-4f8f-44e4-8f9d-0ca429e377ce",
        "colab": {
          "base_uri": "https://localhost:8080/",
          "height": 102
        }
      },
      "source": [
        "for i in range(0,len(ls)):\n",
        "  print(ls[i].score(x_test,y_test))"
      ],
      "execution_count": 14,
      "outputs": [
        {
          "output_type": "stream",
          "text": [
            "0.756\n",
            "0.785\n",
            "0.7665\n",
            "0.77\n",
            "0.775\n"
          ],
          "name": "stdout"
        }
      ]
    },
    {
      "cell_type": "code",
      "metadata": {
        "id": "QrrlGFemDruV",
        "colab_type": "code",
        "outputId": "36470b75-82e5-4d38-be5e-587e363e65c0",
        "colab": {
          "base_uri": "https://localhost:8080/",
          "height": 54
        }
      },
      "source": [
        "y_predls = list()\n",
        "for i in range(0,len(ls)):\n",
        "  y_pred = ls[i].predict(x_test)\n",
        "  y_predls.append(y_pred)\n",
        "print(y_predls)"
      ],
      "execution_count": 10,
      "outputs": [
        {
          "output_type": "stream",
          "text": [
            "[array([1, 3, 7, ..., 5, 1, 0]), array([1, 3, 7, ..., 6, 1, 0]), array([1, 3, 7, ..., 0, 1, 0]), array([1, 3, 7, ..., 5, 1, 8]), array([1, 3, 7, ..., 0, 1, 5])]\n"
          ],
          "name": "stdout"
        }
      ]
    },
    {
      "cell_type": "code",
      "metadata": {
        "id": "5l8tS9taGKoq",
        "colab_type": "code",
        "colab": {}
      },
      "source": [
        "from collections import Counter\n",
        "votedlist = list()\n",
        "for i in range(0,len(y_predls[0])):\n",
        "  column = list()\n",
        "  for j in range(0,len(y_predls)):\n",
        "    z = y_predls[j][i]\n",
        "    column.append(z)\n",
        "  c = Counter(column)\n",
        "  votedlist.append(c.most_common(1)[0][0])\n",
        "\n",
        "#votedlist"
      ],
      "execution_count": 0,
      "outputs": []
    },
    {
      "cell_type": "code",
      "metadata": {
        "id": "hOhnkCsoQvMW",
        "colab_type": "code",
        "outputId": "6a3d8955-425e-42ff-b003-d2c0f9588b01",
        "colab": {
          "base_uri": "https://localhost:8080/",
          "height": 34
        }
      },
      "source": [
        "from sklearn import metrics\n",
        "print(\"Accuracy:\",metrics.accuracy_score(y_test, votedlist))"
      ],
      "execution_count": 12,
      "outputs": [
        {
          "output_type": "stream",
          "text": [
            "Accuracy: 0.8595\n"
          ],
          "name": "stdout"
        }
      ]
    }
  ]
}